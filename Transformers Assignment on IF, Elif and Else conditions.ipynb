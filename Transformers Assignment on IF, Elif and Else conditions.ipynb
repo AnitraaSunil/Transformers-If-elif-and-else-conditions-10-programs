{
 "cells": [
  {
   "cell_type": "markdown",
   "id": "fc92cccf",
   "metadata": {},
   "source": [
    "#                        Assignments on If, elif and else"
   ]
  },
  {
   "cell_type": "markdown",
   "id": "6766c790",
   "metadata": {},
   "source": [
    "# 1. Write a program that takes a number as input and checks if it is positive, negative, or zero. Display an appropriate message based on the input."
   ]
  },
  {
   "cell_type": "markdown",
   "id": "cdded1a4",
   "metadata": {},
   "source": [
    "To check the given number as Zero, Positive or Negative"
   ]
  },
  {
   "cell_type": "code",
   "execution_count": 1,
   "id": "50638bc1",
   "metadata": {},
   "outputs": [
    {
     "name": "stdout",
     "output_type": "stream",
     "text": [
      " -1\n",
      "The given number is negative\n"
     ]
    }
   ],
   "source": [
    "n = int(input(\" \"))\n",
    "if n == 0:\n",
    "    print(\"The given number is zero\")\n",
    "elif n < 0:\n",
    "    print(\"The given number is negative\")\n",
    "else:\n",
    "    print(\"The given number is positive\")"
   ]
  },
  {
   "cell_type": "markdown",
   "id": "3434d4cd",
   "metadata": {},
   "source": [
    "# 2.  Create a program that asks the user for their age and determines if they are a child (age 0-12), teenager (age 13-19), adult (age 20-59), or senior citizen (age 60 and above)."
   ]
  },
  {
   "cell_type": "markdown",
   "id": "6d4f5162",
   "metadata": {},
   "source": [
    "As per the given age they are determined to the specified category"
   ]
  },
  {
   "cell_type": "code",
   "execution_count": 2,
   "id": "32a3e191",
   "metadata": {},
   "outputs": [
    {
     "name": "stdout",
     "output_type": "stream",
     "text": [
      " 60\n",
      "As per the given age the person belongs to the Senior Citizen category\n"
     ]
    }
   ],
   "source": [
    "Age = int (input(\" \"))\n",
    "if Age <= 12:\n",
    "    print(\"As per the given age the person belongs to the Child category\")\n",
    "elif Age>= 13 and Age <=19:\n",
    "    print(\"As per the given age the person belongs to the Teenager category\")\n",
    "elif Age >=20 and Age <=59:\n",
    "    print(\"As per the given age the person belongs to the Adult category\")\n",
    "else:\n",
    "    print(\"As per the given age the person belongs to the Senior Citizen category\")"
   ]
  },
  {
   "cell_type": "markdown",
   "id": "57ce9bfa",
   "metadata": {},
   "source": [
    "# 3. Write a program that calculates the grade for a student based on their score. The program should ask the user to enter their score, and then display the corresponding grade: A (90-100), B (80-89), C (70-79), D (60-69), or F (below 60)."
   ]
  },
  {
   "cell_type": "markdown",
   "id": "08168302",
   "metadata": {},
   "source": [
    "Based on the given score and determine the grade of a student"
   ]
  },
  {
   "cell_type": "code",
   "execution_count": 3,
   "id": "8e65c5da",
   "metadata": {},
   "outputs": [
    {
     "name": "stdout",
     "output_type": "stream",
     "text": [
      " 85\n",
      "The grade of a student is B\n"
     ]
    }
   ],
   "source": [
    "Score = int(input(\" \"))\n",
    "if Score >=90 and Score <=100:\n",
    "    print(\"The grade of a student is A\")\n",
    "elif Score >=80 and Score <=89:\n",
    "    print(\"The grade of a student is B\")\n",
    "elif Score >=70 and Score <=79:\n",
    "    print(\"The grade of a student is C\")\n",
    "elif Score >=60 and Score <=69:\n",
    "    print(\"The grade of a student is D\")\n",
    "else:\n",
    "    print(\"The grade of a student is F\")"
   ]
  },
  {
   "cell_type": "markdown",
   "id": "21b692a0",
   "metadata": {},
   "source": [
    "# 4. Create a program that takes two numbers as input and determines if the first number is divisible by the second number. Display an appropriate message based on the result.\n"
   ]
  },
  {
   "cell_type": "markdown",
   "id": "f15d87d3",
   "metadata": {},
   "source": [
    "To display an approriate message based on the two input of numbers"
   ]
  },
  {
   "cell_type": "code",
   "execution_count": 5,
   "id": "789c4034",
   "metadata": {},
   "outputs": [
    {
     "name": "stdout",
     "output_type": "stream",
     "text": [
      "First number 10\n",
      "Second number 2\n",
      "The first number is fully divisible by the second number\n"
     ]
    }
   ],
   "source": [
    "First_number = int(input(\"First number \"))\n",
    "Second_number = int(input(\"Second number \"))\n",
    "if First_number% Second_number == 0:\n",
    "    print (\"The first number is fully divisible by the second number\")\n",
    "else:\n",
    "    print(\"The first number is not fully divisible by the second number\")"
   ]
  },
  {
   "cell_type": "markdown",
   "id": "e6e06ce0",
   "metadata": {},
   "source": [
    "# 5. Write a program that checks if a year entered by the user is a leap year or not. Display an appropriate message based on the input.\n"
   ]
  },
  {
   "cell_type": "markdown",
   "id": "b95e64df",
   "metadata": {},
   "source": [
    "Check the given year is leap year or not"
   ]
  },
  {
   "cell_type": "code",
   "execution_count": 6,
   "id": "5b03996b",
   "metadata": {},
   "outputs": [
    {
     "name": "stdout",
     "output_type": "stream",
     "text": [
      " 2023\n",
      "The given year is not a leap year\n"
     ]
    }
   ],
   "source": [
    "Year = int(input(\" \"))\n",
    "if Year%4 == 0:\n",
    "    print(\"The given year is a leap year\")\n",
    "else:\n",
    "    print(\"The given year is not a leap year\")"
   ]
  },
  {
   "cell_type": "markdown",
   "id": "a5a41bce",
   "metadata": {},
   "source": [
    "# 6. Create a program that asks the user to enter their age and their income. Based on their age and income, determine if they are eligible for a certain tax deduction. Display an appropriate message based on the eligibility criteria."
   ]
  },
  {
   "cell_type": "markdown",
   "id": "0674cf4d",
   "metadata": {},
   "source": [
    "Based on the Age and income determine they are eligible or not to pay for a certain tax"
   ]
  },
  {
   "cell_type": "code",
   "execution_count": 8,
   "id": "d07af650",
   "metadata": {},
   "outputs": [
    {
     "name": "stdout",
     "output_type": "stream",
     "text": [
      " 28\n",
      " 65000\n",
      "They are eligible to pay the tax\n"
     ]
    }
   ],
   "source": [
    "Age = int(input(\" \"))\n",
    "Income = int(input(\" \"))\n",
    "if Age >=25 and Income <=40000:\n",
    "    print(\"They are not eligible to pay the tax\")\n",
    "else:\n",
    "    print(\"They are eligible to pay the tax\")"
   ]
  },
  {
   "cell_type": "markdown",
   "id": "8cbde4f2",
   "metadata": {},
   "source": [
    "# 7. Write a program that asks the user to enter three numbers and determines the largest number among them. Display the result.\n"
   ]
  },
  {
   "cell_type": "markdown",
   "id": "c4d39758",
   "metadata": {},
   "source": [
    "Enter three numbers and find the largest among the 3 given numbers"
   ]
  },
  {
   "cell_type": "code",
   "execution_count": 9,
   "id": "3776aca7",
   "metadata": {},
   "outputs": [
    {
     "name": "stdout",
     "output_type": "stream",
     "text": [
      "First number 10\n",
      "Second number 12\n",
      "Third number 11\n",
      "The largest number is 12\n"
     ]
    }
   ],
   "source": [
    "n1 = int(input(\"First number \"))\n",
    "n2 = int(input(\"Second number \"))\n",
    "n3 = int(input(\"Third number \"))\n",
    "if n1>n2>n3:\n",
    "    print(\"The largest number is\", n1)\n",
    "elif n1<n2<n3:\n",
    "    print (\"The largest number is\", n3)\n",
    "else:\n",
    "    print(\"The largest number is\",n2)"
   ]
  },
  {
   "cell_type": "markdown",
   "id": "aa095331",
   "metadata": {},
   "source": [
    "# 8. Create a program that checks if a given string is a palindrome. A palindrome is a word, phrase, or sequence that reads the same backward as forward."
   ]
  },
  {
   "cell_type": "markdown",
   "id": "d625b223",
   "metadata": {},
   "source": [
    "A palindrome means that reads the same backward"
   ]
  },
  {
   "cell_type": "code",
   "execution_count": 10,
   "id": "713638bd",
   "metadata": {},
   "outputs": [
    {
     "name": "stdout",
     "output_type": "stream",
     "text": [
      "Enter a letter:liril\n",
      "The given string is a palindrome\n"
     ]
    }
   ],
   "source": [
    "string=input((\"Enter a letter:\"))\n",
    "if(string==string[::-1]):\n",
    "    print(\"The given string is a palindrome\")\n",
    "else:\n",
    "    print(\"The given string is not a palindrome\")"
   ]
  },
  {
   "cell_type": "markdown",
   "id": "9d80d4d6",
   "metadata": {},
   "source": [
    "# 9. Write a program that prompts the user to enter their username and password. If the username and password match a predefined value, display a welcome message. Otherwise, display an error message."
   ]
  },
  {
   "cell_type": "markdown",
   "id": "f8345fa9",
   "metadata": {},
   "source": [
    "As per the given username and password match a predefined value display the message"
   ]
  },
  {
   "cell_type": "code",
   "execution_count": 11,
   "id": "d0213379",
   "metadata": {},
   "outputs": [
    {
     "name": "stdout",
     "output_type": "stream",
     "text": [
      "Enter username: hyuyuy\n",
      "Enter password: njiddd\n",
      "Access denied. Try again.\n"
     ]
    }
   ],
   "source": [
    "username=input('Enter username: ')\n",
    "password=input('Enter password: ')\n",
    "if password=='Hytu78E' and username=='bank_admin':\n",
    "    print('Access granted')\n",
    "else:\n",
    "    print('Access denied. Try again.')"
   ]
  },
  {
   "cell_type": "markdown",
   "id": "dc4ffbed",
   "metadata": {},
   "source": [
    "# 10. Create a program that asks the user to enter their gender and age. Based on the input, display a personalized message such as \"Mr.\" for males aged 18 and above, \"Ms.\" for females aged 18 and above, \"Master\" for males below 18, and \"Miss\" for females below 18."
   ]
  },
  {
   "cell_type": "markdown",
   "id": "e7466d45",
   "metadata": {},
   "source": [
    "Based on their Age and Gender display the message accordingly"
   ]
  },
  {
   "cell_type": "code",
   "execution_count": 12,
   "id": "574f2418",
   "metadata": {},
   "outputs": [
    {
     "name": "stdout",
     "output_type": "stream",
     "text": [
      "Age of a person 10\n",
      "Gender of a person F\n",
      "Miss\n"
     ]
    }
   ],
   "source": [
    "Age = int(input(\"Age of a person \"))\n",
    "Gender = input(\"Gender of a person \")\n",
    "if Gender == 'M' and Age >=18:\n",
    "    print(\"Mr.\")\n",
    "elif Gender =='F' and Age >=18:\n",
    "    print(\"Ms.\")\n",
    "elif Gender == 'M'and Age < 18:\n",
    "    print(\"Master\")\n",
    "else:\n",
    "    print(\"Miss\")"
   ]
  },
  {
   "cell_type": "code",
   "execution_count": null,
   "id": "eb70ba97",
   "metadata": {},
   "outputs": [],
   "source": []
  }
 ],
 "metadata": {
  "kernelspec": {
   "display_name": "Python 3 (ipykernel)",
   "language": "python",
   "name": "python3"
  },
  "language_info": {
   "codemirror_mode": {
    "name": "ipython",
    "version": 3
   },
   "file_extension": ".py",
   "mimetype": "text/x-python",
   "name": "python",
   "nbconvert_exporter": "python",
   "pygments_lexer": "ipython3",
   "version": "3.10.9"
  }
 },
 "nbformat": 4,
 "nbformat_minor": 5
}
